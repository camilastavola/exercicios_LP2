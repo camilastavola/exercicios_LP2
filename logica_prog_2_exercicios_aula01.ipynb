{
  "nbformat": 4,
  "nbformat_minor": 0,
  "metadata": {
    "colab": {
      "provenance": []
    },
    "kernelspec": {
      "name": "python3",
      "display_name": "Python 3"
    },
    "language_info": {
      "name": "python"
    }
  },
  "cells": [
    {
      "cell_type": "markdown",
      "source": [
        "### Faça um programa que olhe todos os itens de uma lista e diga quantos deles são pares.\n",
        "\n"
      ],
      "metadata": {
        "id": "MqtbVymKPz4x"
      }
    },
    {
      "cell_type": "code",
      "source": [
        "lista = [0, 1, 2, 3, 4, 5, 6, 7, 8, 9, 10]"
      ],
      "metadata": {
        "id": "gQYjuIYLfNEH"
      },
      "execution_count": 23,
      "outputs": []
    },
    {
      "cell_type": "code",
      "source": [
        "#Este programa informa a quantidade de pares a partir de uma lista já existente\n",
        "for numero in lista:\n",
        "  if numero % 2 == 1:\n",
        "    lista.remove(numero)\n",
        "print(f'Existem {len(lista)} números pares na lista.')"
      ],
      "metadata": {
        "id": "bB5l0m0DXXXv"
      },
      "execution_count": null,
      "outputs": []
    },
    {
      "cell_type": "code",
      "source": [
        "lista = input(\"Digite uma lista de números inteiros separados por espaços: \") # Aqui o programa recebe uma lista através de input\n",
        "lista = lista.split()# Dividindo a lista de strings em strings separados por espaços\n",
        "lista_int = [int(valor) for valor in lista] #Usando compreensão de listas para criar uma lista transformando as strings em inteiros\n",
        "for numero in lista_int:\n",
        "  if numero % 2 == 1:\n",
        "    lista_int.remove(numero)\n",
        "print(f'Existe(m) {len(lista_int)} números par(es) na lista.')"
      ],
      "metadata": {
        "id": "qqzGbkuvYA6p"
      },
      "execution_count": null,
      "outputs": []
    },
    {
      "cell_type": "markdown",
      "source": [
        "###Faça um programa que imprima o maior número de uma lista, sem usar o método max()"
      ],
      "metadata": {
        "id": "8pROqJehddba"
      }
    },
    {
      "cell_type": "code",
      "source": [
        "lista1 = [-1, -5, 104, 1, 2, 3, 4]"
      ],
      "metadata": {
        "id": "hUDFW60RdpjC"
      },
      "execution_count": 12,
      "outputs": []
    },
    {
      "cell_type": "code",
      "source": [
        "maximo = lista1[0]\n",
        "for numero in lista1:\n",
        "  if numero > maximo:\n",
        "    maximo = numero\n",
        "print(f'O maior número da lista é {maximo}')"
      ],
      "metadata": {
        "id": "THn4xiLrdwKJ"
      },
      "execution_count": null,
      "outputs": []
    },
    {
      "cell_type": "markdown",
      "source": [
        "###Faça um Programa que peça as 4 notas bimestrais e mostre a média, usando listas."
      ],
      "metadata": {
        "id": "MzUNVBgBfczo"
      }
    },
    {
      "cell_type": "code",
      "source": [
        "i = 1\n",
        "lista_notas = []\n",
        "while i <= 4:\n",
        "  lista_notas.append(float(input(f\"Por favor, insira a nota {i} \\n\")))\n",
        "  i = i+1\n",
        "media = sum(lista_notas)/len(lista_notas)\n",
        "print(f\"A média das notas é: {media}\")\n"
      ],
      "metadata": {
        "id": "sp4Fv59Ifo4Q"
      },
      "execution_count": null,
      "outputs": []
    },
    {
      "cell_type": "markdown",
      "source": [
        "###Considere que temos uma lista com os nomes de todos os alunos de uma turma, e outra com as notas, na mesma ordem. Como faríamos para acessar, simultaneamente, o nome de um aluno e a sua nota?"
      ],
      "metadata": {
        "id": "Vq2ewjkNhYmo"
      }
    },
    {
      "cell_type": "markdown",
      "source": [
        "Poderíamos utilizar a função zip() para combinar a lista de alunos e a lista de notas. Esta função gera um iterável contendo o nome do aluno e sua nota correspondente. Em seguida, basta criar uma lista de tuplas com alunos e suas notas.\n",
        "Por exemplo:"
      ],
      "metadata": {
        "id": "OEk9epuAiFWp"
      }
    },
    {
      "cell_type": "code",
      "source": [
        "alunos = [\"Marina\", \"Pedro\", \"Lara\", \"Vanessa\"] #exemplo de uma lista de alunos"
      ],
      "metadata": {
        "id": "m9OyQn3iivl4"
      },
      "execution_count": 27,
      "outputs": []
    },
    {
      "cell_type": "code",
      "source": [
        "notas = [9.0, 4.5, 7.5, 6.0] #exemplo de uma lista de notas"
      ],
      "metadata": {
        "id": "x_3dctsYi267"
      },
      "execution_count": 28,
      "outputs": []
    },
    {
      "cell_type": "code",
      "source": [
        "alunos_notas = list(zip(alunos, notas))\n",
        "print(alunos_notas)"
      ],
      "metadata": {
        "colab": {
          "base_uri": "https://localhost:8080/"
        },
        "id": "FYOQITmoh03g",
        "outputId": "6b3deb77-0397-4263-e856-f4a14c6de076"
      },
      "execution_count": 31,
      "outputs": [
        {
          "output_type": "stream",
          "name": "stdout",
          "text": [
            "[('Marina', 9.0), ('Pedro', 4.5), ('Lara', 7.5), ('Vanessa', 6.0)]\n"
          ]
        }
      ]
    },
    {
      "cell_type": "markdown",
      "source": [
        "###Para que a entrega de alimentos seja feita com qualidade por um serviço de delivery, é muito importante que as caixas de transporte utilizadas por entregadores tenham um revestimento térmico interno, para manter a temperatura dos alimentos. Muitos destes revestimentos são importados de países que utilizam diferentes escalas de temperatura, de modo que as especificações quanto às temperaturas de operação podem gerar confusão.\n",
        "\n",
        "###Pensando nisso, escreva um código em Python que recebe um número (que possa ter casas decimais) e a escala de temperatura em que este valor se encontra e para qual ele deseja converter (Celsius, Kelvin ou Fahrenheit). Tanto na escala em que se encontra quanto para a que deseja converter, utilize as letras iniciais como entrada: Celsius - 'C', Kelvin - 'K' ou Fahrenheit - 'F'.\n",
        "\n",
        "###Importante: o programa deve trabalhar apenas com as 3 escalas supracitadas! Então, não deixe de fazer as validações necessárias. Além disso, por definição, não existem temperaturas em Kelvin abaixo de zero (o valor zero pode existir), portanto verifique também esta condição para que sejam feitas conversões válidas!"
      ],
      "metadata": {
        "id": "_d6EPnvvkHje"
      }
    },
    {
      "cell_type": "code",
      "source": [
        "temperatura = float(input(\"Insira a temperatura\\n\"))\n",
        "\n",
        "escala_atual = input(\"Insira a escala atual (C para Celsius, K para Kelvin ou F para Fahrenheit)\\n\")\n",
        "while (escala_atual != \"C\") and (escala_atual != \"K\") and (escala_atual != \"F\"):\n",
        "    escala_atual = input(\"Insira a escala atual (C para Celsius, K para Kelvin ou F para Fahrenheit)\\n\")\n",
        "\n",
        "while (temperatura < 0 ) and (escala_atual == \"K\"):\n",
        "  temperatura = float(input(\"Não existe temperatura em Kelvin abaixo de zero! Insira a temperatura\\n\"))\n",
        "\n",
        "escala_converter = input(\"Insira a escala para qual deseja converter a temperatura (C para Celsius, K para Kelvin ou F para Fahrenheit)\\n\")\n",
        "while (escala_converter != \"C\") and (escala_converter != \"K\") and (escala_converter != \"F\"):\n",
        "    escala_converter = input(\"Insira a escala para qual deseja converter a temperatura (C para Celsius, K para Kelvin ou F para Fahrenheit)\\n\")\n",
        "\n",
        "if(escala_atual == \"C\"):\n",
        "  if(escala_converter == \"K\"):\n",
        "    temperatura_convertida = temperatura + 273\n",
        "  elif(escala_converter == \"F\"):\n",
        "      temperatura_convertida = (temperatura *9/5) + 32\n",
        "\n",
        "if(escala_atual == \"K\"):\n",
        "  if(escala_converter == \"C\"):\n",
        "    temperatura_convertida = temperatura - 273\n",
        "  elif(escala_converter == \"F\"):\n",
        "      temperatura_convertida = (temperatura - 273)*9/5 + 32\n",
        "\n",
        "if(escala_atual == \"F\"):\n",
        "  if(escala_converter == \"C\"):\n",
        "    temperatura_convertida = (temperatura - 32)*5/9\n",
        "  elif(escala_converter == \"k\"):\n",
        "      temperatura_convertida = ((temperatura - 32)*5/9) + 273\n",
        "\n",
        "print(f\"A temperatura convertida é de {temperatura_convertida} graus {escala_converter}. \\n\")\n"
      ],
      "metadata": {
        "id": "iWvqnhNNkVT0"
      },
      "execution_count": null,
      "outputs": []
    }
  ]
}